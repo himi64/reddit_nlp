{
 "cells": [
  {
   "cell_type": "code",
   "execution_count": 1,
   "metadata": {},
   "outputs": [],
   "source": [
    "import nltk\n",
    "import praw\n",
    "import pandas as pd\n",
    "import datetime\n",
    "import json"
   ]
  },
  {
   "cell_type": "code",
   "execution_count": 2,
   "metadata": {},
   "outputs": [
    {
     "name": "stdout",
     "output_type": "stream",
     "text": [
      "[2019-04-06 16:12:07.957885]credfile.json .......... is being used as credfile\n"
     ]
    }
   ],
   "source": [
    "# Load credfile and display when last updated\n",
    "credfile = 'credfile.json'\n",
    "credfile_prefix = ''\n",
    "\n",
    "# Read credentials to a dictionary\n",
    "with open(credfile) as fh:\n",
    "    creds = json.loads(fh.read())\n",
    "\n",
    "print(f\"[{datetime.datetime.now()}]\" + f\"{credfile} {'.' * 10} is being used as credfile\")"
   ]
  },
  {
   "cell_type": "code",
   "execution_count": 3,
   "metadata": {},
   "outputs": [],
   "source": [
    "reddit = praw.Reddit(client_id=creds['client_id'],\n",
    "                     client_secret=creds['client_secret'],\n",
    "                     user_agent=creds['user_agent']\n",
    "                    )"
   ]
  },
  {
   "cell_type": "code",
   "execution_count": 4,
   "metadata": {},
   "outputs": [
    {
     "name": "stdout",
     "output_type": "stream",
     "text": [
      "True\n"
     ]
    }
   ],
   "source": [
    "print(reddit.read_only)  # Output: True"
   ]
  },
  {
   "cell_type": "markdown",
   "metadata": {},
   "source": [
    "## Take all top level comments and analyze"
   ]
  },
  {
   "cell_type": "code",
   "execution_count": 5,
   "metadata": {},
   "outputs": [],
   "source": [
    "submission = reddit.submission(id='ba7uqx')"
   ]
  },
  {
   "cell_type": "code",
   "execution_count": 41,
   "metadata": {},
   "outputs": [],
   "source": [
    "# alternatively, save comments as a list\n",
    "top_level_comments = list(submission.comments)\n",
    "all_comments = submission.comments.list()"
   ]
  },
  {
   "cell_type": "code",
   "execution_count": 42,
   "metadata": {},
   "outputs": [
    {
     "name": "stdout",
     "output_type": "stream",
     "text": [
      "Number of top level comments:  161\n",
      "Total number of comments:      478\n"
     ]
    }
   ],
   "source": [
    "print(\"Number of top level comments: \", len(top_level_comments))\n",
    "print(\"Total number of comments:     \", len(all_comments))"
   ]
  },
  {
   "cell_type": "code",
   "execution_count": 43,
   "metadata": {},
   "outputs": [
    {
     "name": "stdout",
     "output_type": "stream",
     "text": [
      "Votes:   1\n",
      "Author:  AutoModerator\n",
      "Body:    **Mirrors / Alternate angles**\n",
      "\n",
      "*I am a bot, and this action was performed automatically. Please [contact the moderators of this subreddit](/message/compose/?to=/r/soccer) if you have any questions or concerns.*\n",
      "===================\n",
      "Votes:   520\n",
      "Author:  Sinnedd\n",
      "Body:    Damn, Costa must have insulted this guy’s entire family \n",
      "===================\n",
      "Votes:   228\n",
      "Author:  FlyingArab\n",
      "Body:    This was the most Diego Costa sequence ever\n",
      "===================\n",
      "Votes:   276\n",
      "Author:  Juggernautspammer\n",
      "Body:    What the fuck could he have said to get a straight red holy shit \n",
      "===================\n",
      "Votes:   271\n",
      "Author:  steven_vd\n",
      "Body:    I am so confused\n",
      "===================\n"
     ]
    }
   ],
   "source": [
    "for comment in top_level_comments[:5]:\n",
    "    print(\"Votes:  \", comment.score)\n",
    "    print(\"Author: \", comment.author)\n",
    "    print(\"Body:   \",  comment.body)\n",
    "    print(\"===================\")"
   ]
  },
  {
   "cell_type": "code",
   "execution_count": 64,
   "metadata": {},
   "outputs": [],
   "source": [
    "# iterate over top comments in the submission and\\= create list of sentences\n",
    "submission.comments.replace_more(limit=None)\n",
    "top_level_comment_list = []\n",
    "top_level_comment_string = ''\n",
    "for top_level_comment in submission.comments[1:]: # Skip AutoMod comment\n",
    "    top_level_comment_list.append(top_level_comment.body)\n",
    "    top_level_comment_string += (str(top_level_comment.body)+'. ')"
   ]
  },
  {
   "cell_type": "code",
   "execution_count": 65,
   "metadata": {},
   "outputs": [
    {
     "data": {
      "text/plain": [
       "['Damn, Costa must have insulted this guy’s entire family ',\n",
       " 'This was the most Diego Costa sequence ever',\n",
       " 'What the fuck could he have said to get a straight red holy shit ',\n",
       " 'I am so confused',\n",
       " 'Simeone is gonna shank Diego at half time.']"
      ]
     },
     "execution_count": 65,
     "metadata": {},
     "output_type": "execute_result"
    }
   ],
   "source": [
    "top_level_comment_list[0:5]"
   ]
  },
  {
   "cell_type": "code",
   "execution_count": 66,
   "metadata": {},
   "outputs": [
    {
     "data": {
      "text/plain": [
       "\"Damn, Costa must have insulted this guy’s entire family . This was the most Diego Costa sequence ever. What the fuck could he have said to get a straight red holy shit . I am so confused. Simeone is gonna shank Diego at half time.. Well, he didn't come back for very long.. Damn, the way atletico players surrounded the ref was inviting another red. Thats our boy. The way the referee gets crowded in la Liga disgusts me every time. . classic Diego Costa. lol wtf did he say to the ref. Gently whispe\""
      ]
     },
     "execution_count": 66,
     "metadata": {},
     "output_type": "execute_result"
    }
   ],
   "source": [
    "top_level_comment_string[0:500]"
   ]
  },
  {
   "cell_type": "markdown",
   "metadata": {},
   "source": [
    "#### Polarity & Subjectivity using TextBlob"
   ]
  },
  {
   "cell_type": "code",
   "execution_count": 63,
   "metadata": {},
   "outputs": [
    {
     "name": "stdout",
     "output_type": "stream",
     "text": [
      "Polarity score:      0.00040267719991222837\n",
      "Subjectivity score:  0.4952159681076733\n"
     ]
    }
   ],
   "source": [
    "from textblob import TextBlob\n",
    "\n",
    "analysis = TextBlob(top_level_comment_string)\n",
    "print('Polarity score:     ', analysis.sentiment[0])\n",
    "print('Subjectivity score: ', analysis.subjectivity)"
   ]
  },
  {
   "cell_type": "markdown",
   "metadata": {},
   "source": [
    "#### Readability score"
   ]
  },
  {
   "cell_type": "code",
   "execution_count": 72,
   "metadata": {},
   "outputs": [
    {
     "name": "stdout",
     "output_type": "stream",
     "text": [
      "Flesch-kincaid score:        3.786948356807514\n",
      "Flesch-kincaid grade level:  4\n"
     ]
    }
   ],
   "source": [
    "from readability import Readability\n",
    "\n",
    "r = Readability(top_level_comment_string)\n",
    "fk = r.flesch_kincaid()\n",
    "\n",
    "print(\"Flesch-kincaid score:       \", fk.score)\n",
    "print(\"Flesch-kincaid grade level: \", fk.grade_level)"
   ]
  },
  {
   "cell_type": "code",
   "execution_count": 71,
   "metadata": {},
   "outputs": [
    {
     "data": {
      "text/plain": [
       "'4'"
      ]
     },
     "execution_count": 71,
     "metadata": {},
     "output_type": "execute_result"
    }
   ],
   "source": [
    "fk.grade_level"
   ]
  },
  {
   "cell_type": "code",
   "execution_count": null,
   "metadata": {},
   "outputs": [],
   "source": []
  },
  {
   "cell_type": "markdown",
   "metadata": {},
   "source": [
    "## Analyze tree of a single comment"
   ]
  },
  {
   "cell_type": "code",
   "execution_count": 30,
   "metadata": {},
   "outputs": [
    {
     "data": {
      "text/plain": [
       "[Comment(id='ek9ly37'),\n",
       " Comment(id='ek9oyi9'),\n",
       " Comment(id='ek9mbrg'),\n",
       " Comment(id='ek9n6ob'),\n",
       " Comment(id='ek9mva9'),\n",
       " <MoreComments count=1, children=['ek9ne9x']>,\n",
       " Comment(id='ek9n5cw'),\n",
       " Comment(id='ek9n2gf'),\n",
       " Comment(id='ek9no6b'),\n",
       " Comment(id='ek9oo1w'),\n",
       " Comment(id='ek9nofh'),\n",
       " Comment(id='ek9nxd5'),\n",
       " <MoreComments count=3, children=['ek9nmuu']>,\n",
       " Comment(id='ek9o260'),\n",
       " Comment(id='ek9ocfo')]"
      ]
     },
     "execution_count": 30,
     "metadata": {},
     "output_type": "execute_result"
    }
   ],
   "source": [
    "top_level_comments[2].replies.list()"
   ]
  },
  {
   "cell_type": "code",
   "execution_count": null,
   "metadata": {},
   "outputs": [],
   "source": []
  }
 ],
 "metadata": {
  "kernelspec": {
   "display_name": "Python 3",
   "language": "python",
   "name": "python3"
  },
  "language_info": {
   "codemirror_mode": {
    "name": "ipython",
    "version": 3
   },
   "file_extension": ".py",
   "mimetype": "text/x-python",
   "name": "python",
   "nbconvert_exporter": "python",
   "pygments_lexer": "ipython3",
   "version": "3.6.6"
  }
 },
 "nbformat": 4,
 "nbformat_minor": 2
}
