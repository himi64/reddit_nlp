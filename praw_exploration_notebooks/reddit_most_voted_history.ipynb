{
 "cells": [
  {
   "cell_type": "markdown",
   "metadata": {},
   "source": [
    "# Exploring Reddit Submission Votes and Comments"
   ]
  },
  {
   "cell_type": "code",
   "execution_count": 1,
   "metadata": {},
   "outputs": [],
   "source": [
    "import praw\n",
    "import pandas as pd\n",
    "import datetime\n",
    "import json"
   ]
  },
  {
   "cell_type": "code",
   "execution_count": 2,
   "metadata": {},
   "outputs": [
    {
     "name": "stdout",
     "output_type": "stream",
     "text": [
      "[2019-04-09 22:38:40.287344]credfile.json .......... is being used as credfile\n",
      "True\n"
     ]
    }
   ],
   "source": [
    "# Load credfile and display when last updated\n",
    "credfile = 'credfile.json'\n",
    "credfile_prefix = ''\n",
    "\n",
    "# Read credentials to a dictionary\n",
    "with open(credfile) as fh:\n",
    "    creds = json.loads(fh.read())\n",
    "\n",
    "print(f\"[{datetime.datetime.now()}]\" + f\"{credfile} {'.' * 10} is being used as credfile\")\n",
    "\n",
    "reddit = praw.Reddit(client_id=creds['client_id'],\n",
    "                     client_secret=creds['client_secret'],\n",
    "                     user_agent=creds['user_agent']\n",
    "                    )\n",
    "\n",
    "print(reddit.read_only)  # Output: True"
   ]
  },
  {
   "cell_type": "markdown",
   "metadata": {},
   "source": [
    "### Look at the current 10 'hot' submissions from r/AskReddit"
   ]
  },
  {
   "cell_type": "code",
   "execution_count": 3,
   "metadata": {},
   "outputs": [
    {
     "data": {
      "text/plain": [
       "[Submission(id='bbbuxc'),\n",
       " Submission(id='bb90vv'),\n",
       " Submission(id='bb7s99'),\n",
       " Submission(id='bb804d'),\n",
       " Submission(id='bb6vue'),\n",
       " Submission(id='bbalma'),\n",
       " Submission(id='bb7qsi'),\n",
       " Submission(id='bb5tv8'),\n",
       " Submission(id='bb7joj'),\n",
       " Submission(id='bb9bcr')]"
      ]
     },
     "execution_count": 3,
     "metadata": {},
     "output_type": "execute_result"
    }
   ],
   "source": [
    "subreddit = reddit.subreddit('AskReddit')\n",
    "hot_10 = list(subreddit.hot(limit=10))\n",
    "hot_10"
   ]
  },
  {
   "cell_type": "code",
   "execution_count": 4,
   "metadata": {},
   "outputs": [],
   "source": [
    "controv_10 = list(subreddit.controversial(limit=10))\n",
    "top_10 = list(subreddit.top(limit=10))\n",
    "new_10 = list(subreddit.new(limit=10))"
   ]
  },
  {
   "cell_type": "markdown",
   "metadata": {},
   "source": [
    "#### Comments for an example submission"
   ]
  },
  {
   "cell_type": "code",
   "execution_count": 5,
   "metadata": {},
   "outputs": [
    {
     "data": {
      "text/plain": [
       "'https://www.reddit.com/r/AskReddit/comments/bavxqq/all_crimes_are_now_legal_for_24_hours_and_you/'"
      ]
     },
     "execution_count": 5,
     "metadata": {},
     "output_type": "execute_result"
    }
   ],
   "source": [
    "submission = reddit.submission(id='bavxqq')\n",
    "submission.url"
   ]
  },
  {
   "cell_type": "code",
   "execution_count": 6,
   "metadata": {},
   "outputs": [],
   "source": [
    "# To iterate through all instances of MoreComments to get all top level comments\n",
    "while True:\n",
    "    try:\n",
    "        submission.comments.replace_more()\n",
    "        break\n",
    "    except PossibleExceptions:\n",
    "        print('Handling replace_more exception')\n",
    "        sleep(1)"
   ]
  },
  {
   "cell_type": "code",
   "execution_count": 7,
   "metadata": {},
   "outputs": [
    {
     "name": "stdout",
     "output_type": "stream",
     "text": [
      "1349\n"
     ]
    }
   ],
   "source": [
    "print(len(list(submission.comments\n",
    "              )))"
   ]
  },
  {
   "cell_type": "markdown",
   "metadata": {},
   "source": [
    "#### View comment replies"
   ]
  },
  {
   "cell_type": "code",
   "execution_count": 8,
   "metadata": {},
   "outputs": [
    {
     "data": {
      "text/plain": [
       "[]"
      ]
     },
     "execution_count": 8,
     "metadata": {},
     "output_type": "execute_result"
    }
   ],
   "source": [
    "comment = submission.comments[5]\n",
    "comment.refresh()\n",
    "comment.replies.replace_more()"
   ]
  },
  {
   "cell_type": "code",
   "execution_count": 9,
   "metadata": {},
   "outputs": [],
   "source": [
    "replies = comment.replies"
   ]
  },
  {
   "cell_type": "code",
   "execution_count": 10,
   "metadata": {},
   "outputs": [
    {
     "data": {
      "text/plain": [
       "[Comment(id='ekf2xdv'),\n",
       " Comment(id='ekf6v4f'),\n",
       " Comment(id='ekfkxw9'),\n",
       " Comment(id='ekfyx5o'),\n",
       " Comment(id='ekg2611'),\n",
       " Comment(id='ekghem6'),\n",
       " Comment(id='ekgp98i')]"
      ]
     },
     "execution_count": 10,
     "metadata": {},
     "output_type": "execute_result"
    }
   ],
   "source": [
    "list(replies)"
   ]
  },
  {
   "cell_type": "markdown",
   "metadata": {},
   "source": [
    "### Comments & Upvotes"
   ]
  },
  {
   "cell_type": "code",
   "execution_count": 13,
   "metadata": {},
   "outputs": [],
   "source": [
    "def iterate_over_submissions(submission_list, selection):\n",
    "    submission_df = pd.DataFrame()\n",
    "    counter=0\n",
    "    for submission in submission_list:\n",
    "        while True:\n",
    "            try:\n",
    "                submission.comments.replace_more()\n",
    "                break\n",
    "            except PossibleExceptions:\n",
    "                print('Handling replace_more exception')\n",
    "                sleep(1)\n",
    "                \n",
    "        if selection==\"print\":\n",
    "            print(\"Name of post:       \", submission.name)\n",
    "            print(\"Author:             \", submission.author)\n",
    "            print(\"Created on:         \", datetime.datetime.fromtimestamp(int(submission.created_utc)).strftime(\"%m/%d/%y %H:%M:%S\"))\n",
    "            print(\"Number of upvotes:  \", submission.ups)\n",
    "            print(\"Linked url:         \", submission.url)\n",
    "            print(\"Upvote ratio:       \", submission.upvote_ratio)\n",
    "            print(\"Number of comments: \", len(list(submission.comments)))\n",
    "            print(\"=========================\")\n",
    "            \n",
    "        elif selection==\"dataframe\":\n",
    "            submission_df.loc[counter, 'name'] = submission.name\n",
    "            submission_df.loc[counter, 'created'] = datetime.datetime.fromtimestamp(int(submission.created_utc)).strftime(\"%m/%d/%y %H:%M:%S\")\n",
    "            submission_df.loc[counter, 'upvotes'] = submission.ups\n",
    "            submission_df.loc[counter, 'ratio'] = submission.upvote_ratio\n",
    "            submission_df.loc[counter, 'comments'] = len(list(submission.comments))\n",
    "            \n",
    "    return submission_df"
   ]
  },
  {
   "cell_type": "code",
   "execution_count": 15,
   "metadata": {
    "scrolled": false
   },
   "outputs": [
    {
     "name": "stdout",
     "output_type": "stream",
     "text": [
      "Name of post:        t3_fn67j\n",
      "Author:              None\n",
      "Created on:          02/17/11 08:13:49\n",
      "Number of upvotes:   112\n",
      "Linked url:          https://www.reddit.com/r/AskReddit/comments/fn67j/i_hear_my_house_mate_masturbating_should_i_walk/\n",
      "Upvote ratio:        0.55\n",
      "Number of comments:  1348\n",
      "=========================\n",
      "Name of post:        t3_gajxc\n",
      "Author:              SmashPig\n",
      "Created on:          03/24/11 11:56:26\n",
      "Number of upvotes:   0\n",
      "Linked url:          https://www.reddit.com/r/AskReddit/comments/gajxc/today_is_my_birthday_i_turned_25_all_i_want_for/\n",
      "Upvote ratio:        0.5\n",
      "Number of comments:  103\n",
      "=========================\n",
      "Name of post:        t3_x6kv0\n",
      "Author:              xomaleo\n",
      "Created on:          07/26/12 05:42:22\n",
      "Number of upvotes:   168\n",
      "Linked url:          https://www.reddit.com/r/AskReddit/comments/x6kv0/why_do_americans_refer_to_their_country_as_free/\n",
      "Upvote ratio:        0.57\n",
      "Number of comments:  1777\n",
      "=========================\n",
      "Name of post:        t3_u843q\n",
      "Author:              tttouch_me\n",
      "Created on:          05/27/12 22:32:14\n",
      "Number of upvotes:   0\n",
      "Linked url:          https://www.reddit.com/r/AskReddit/comments/u843q/bf_wants_me_to_masturbate_for_him_do_guys/\n",
      "Upvote ratio:        0.5\n",
      "Number of comments:  1097\n",
      "=========================\n",
      "Name of post:        t3_1m66na\n",
      "Author:              fuckyourteam\n",
      "Created on:          09/11/13 08:32:16\n",
      "Number of upvotes:   459\n",
      "Linked url:          https://www.reddit.com/r/AskReddit/comments/1m66na/black_american_parents_of_reddit_why_do_you_name/\n",
      "Upvote ratio:        0.7\n",
      "Number of comments:  1675\n",
      "=========================\n",
      "Name of post:        t3_rpeo1\n",
      "Author:              over9000bubuns\n",
      "Created on:          04/02/12 08:20:22\n",
      "Number of upvotes:   0\n",
      "Linked url:          https://www.reddit.com/r/AskReddit/comments/rpeo1/its_april_second_shouldnt_that_hideous_timeline/\n",
      "Upvote ratio:        0.5\n",
      "Number of comments:  55\n",
      "=========================\n",
      "Name of post:        t3_ua39e\n",
      "Author:              spongemandan\n",
      "Created on:          05/29/12 05:09:38\n",
      "Number of upvotes:   321\n",
      "Linked url:          https://www.reddit.com/r/AskReddit/comments/ua39e/i_am_an_australian_i_think_that_allowing_anyone/\n",
      "Upvote ratio:        0.64\n",
      "Number of comments:  1911\n",
      "=========================\n",
      "Name of post:        t3_11wl1l\n",
      "Author:              cryptoz\n",
      "Created on:          10/22/12 16:32:34\n",
      "Number of upvotes:   335\n",
      "Linked url:          https://www.reddit.com/r/AskReddit/comments/11wl1l/were_back_what_did_you_do_during_the_great_outage/\n",
      "Upvote ratio:        0.66\n",
      "Number of comments:  2316\n",
      "=========================\n",
      "Name of post:        t3_o2pev\n",
      "Author:              cool-ranch\n",
      "Created on:          01/04/12 12:35:04\n",
      "Number of upvotes:   0\n",
      "Linked url:          https://www.reddit.com/r/AskReddit/comments/o2pev/problem_with_new_girlfriend_reddit_please_help_me/\n",
      "Upvote ratio:        0.5\n",
      "Number of comments:  176\n",
      "=========================\n",
      "Name of post:        t3_136prr\n",
      "Author:              Ieatalot\n",
      "Created on:          11/14/12 11:20:25\n",
      "Number of upvotes:   85\n",
      "Linked url:          https://www.reddit.com/r/AskReddit/comments/136prr/even_after_all_the_tax_breaks_the_top_5_of/\n",
      "Upvote ratio:        0.52\n",
      "Number of comments:  289\n",
      "=========================\n"
     ]
    },
    {
     "data": {
      "text/html": [
       "<div>\n",
       "<style scoped>\n",
       "    .dataframe tbody tr th:only-of-type {\n",
       "        vertical-align: middle;\n",
       "    }\n",
       "\n",
       "    .dataframe tbody tr th {\n",
       "        vertical-align: top;\n",
       "    }\n",
       "\n",
       "    .dataframe thead th {\n",
       "        text-align: right;\n",
       "    }\n",
       "</style>\n",
       "<table border=\"1\" class=\"dataframe\">\n",
       "  <thead>\n",
       "    <tr style=\"text-align: right;\">\n",
       "      <th></th>\n",
       "    </tr>\n",
       "  </thead>\n",
       "  <tbody>\n",
       "  </tbody>\n",
       "</table>\n",
       "</div>"
      ],
      "text/plain": [
       "Empty DataFrame\n",
       "Columns: []\n",
       "Index: []"
      ]
     },
     "execution_count": 15,
     "metadata": {},
     "output_type": "execute_result"
    }
   ],
   "source": [
    "iterate_over_submissions(controv_10, selection=\"print\")"
   ]
  },
  {
   "cell_type": "code",
   "execution_count": 16,
   "metadata": {},
   "outputs": [],
   "source": [
    "submission_df = iterate_over_submissions(controv_10, selection=\"dataframe\")"
   ]
  },
  {
   "cell_type": "markdown",
   "metadata": {},
   "source": [
    "### TODO: Vizualization of comments vs upvotes"
   ]
  },
  {
   "cell_type": "code",
   "execution_count": null,
   "metadata": {},
   "outputs": [],
   "source": []
  }
 ],
 "metadata": {
  "kernelspec": {
   "display_name": "Python 3",
   "language": "python",
   "name": "python3"
  },
  "language_info": {
   "codemirror_mode": {
    "name": "ipython",
    "version": 3
   },
   "file_extension": ".py",
   "mimetype": "text/x-python",
   "name": "python",
   "nbconvert_exporter": "python",
   "pygments_lexer": "ipython3",
   "version": "3.6.8"
  }
 },
 "nbformat": 4,
 "nbformat_minor": 2
}
