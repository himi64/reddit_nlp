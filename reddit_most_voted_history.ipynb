{
 "cells": [
  {
   "cell_type": "markdown",
   "metadata": {},
   "source": [
    "# Exploring Reddit Submission Votes and Comments"
   ]
  },
  {
   "cell_type": "code",
   "execution_count": 3,
   "metadata": {},
   "outputs": [],
   "source": [
    "import praw\n",
    "import pandas as pd\n",
    "import datetime\n",
    "import json"
   ]
  },
  {
   "cell_type": "code",
   "execution_count": 4,
   "metadata": {},
   "outputs": [
    {
     "name": "stdout",
     "output_type": "stream",
     "text": [
      "[2019-04-08 21:37:07.034342]credfile.json .......... is being used as credfile\n",
      "True\n"
     ]
    }
   ],
   "source": [
    "# Load credfile and display when last updated\n",
    "credfile = 'credfile.json'\n",
    "credfile_prefix = ''\n",
    "\n",
    "# Read credentials to a dictionary\n",
    "with open(credfile) as fh:\n",
    "    creds = json.loads(fh.read())\n",
    "\n",
    "print(f\"[{datetime.datetime.now()}]\" + f\"{credfile} {'.' * 10} is being used as credfile\")\n",
    "\n",
    "reddit = praw.Reddit(client_id=creds['client_id'],\n",
    "                     client_secret=creds['client_secret'],\n",
    "                     user_agent=creds['user_agent']\n",
    "                    )\n",
    "\n",
    "print(reddit.read_only)  # Output: True"
   ]
  },
  {
   "cell_type": "code",
   "execution_count": 7,
   "metadata": {},
   "outputs": [],
   "source": [
    "subreddit = reddit.subreddit('AskReddit')"
   ]
  },
  {
   "cell_type": "code",
   "execution_count": 14,
   "metadata": {},
   "outputs": [],
   "source": [
    "top_10 = list(subreddit.hot(limit=10))"
   ]
  },
  {
   "cell_type": "code",
   "execution_count": 15,
   "metadata": {},
   "outputs": [
    {
     "data": {
      "text/plain": [
       "[Submission(id='bawfcs'),\n",
       " Submission(id='baxjdl'),\n",
       " Submission(id='bat8ow'),\n",
       " Submission(id='bawp6a'),\n",
       " Submission(id='bas2b4'),\n",
       " Submission(id='bayabh'),\n",
       " Submission(id='bavxqq'),\n",
       " Submission(id='bawh20'),\n",
       " Submission(id='baspqu'),\n",
       " Submission(id='baq40v')]"
      ]
     },
     "execution_count": 15,
     "metadata": {},
     "output_type": "execute_result"
    }
   ],
   "source": [
    "top_10"
   ]
  },
  {
   "cell_type": "code",
   "execution_count": 58,
   "metadata": {},
   "outputs": [],
   "source": [
    "submission = reddit.submission(id='bavxqq')"
   ]
  },
  {
   "cell_type": "code",
   "execution_count": 61,
   "metadata": {},
   "outputs": [
    {
     "data": {
      "text/plain": [
       "'https://www.reddit.com/r/AskReddit/comments/bavxqq/all_crimes_are_now_legal_for_24_hours_and_you/'"
      ]
     },
     "execution_count": 61,
     "metadata": {},
     "output_type": "execute_result"
    }
   ],
   "source": [
    "submission.url"
   ]
  },
  {
   "cell_type": "markdown",
   "metadata": {},
   "source": [
    "### Comments & Upvotes"
   ]
  },
  {
   "cell_type": "code",
   "execution_count": 59,
   "metadata": {},
   "outputs": [],
   "source": [
    "def iterate_over_submissions(submission_list):\n",
    "    for submission in submission_list:\n",
    "        print(\"Name of post:       \", submission.name)\n",
    "        print(\"Author:             \", submission.author)\n",
    "        print(\"Created on:         \", datetime.datetime.fromtimestamp(int(submission.created_utc)).strftime(\"%m/%d/%y %H:%M:%S\"))\n",
    "        print(\"Number of upvotes:  \", submission.upvote_ratio)\n",
    "        print(\"Upvote ratio:       \", submission.upvote_ratio)\n",
    "        print(\"Number of comments: \", {len(list(submission.comments))})\n",
    "        print(\"=========================\")"
   ]
  },
  {
   "cell_type": "code",
   "execution_count": 60,
   "metadata": {},
   "outputs": [
    {
     "name": "stdout",
     "output_type": "stream",
     "text": [
      "Name of post:        t3_bawfcs\n",
      "Author:              Semi_HadrOn\n",
      "Created on:          04/08/19 13:14:36\n",
      "Number of upvotes:   0.92\n",
      "Upvote ratio:        0.92\n",
      "Number of comments:  {63}\n",
      "=========================\n",
      "Name of post:        t3_baxjdl\n",
      "Author:              jacksoncarrollson\n",
      "Created on:          04/08/19 14:49:34\n",
      "Number of upvotes:   0.96\n",
      "Upvote ratio:        0.96\n",
      "Number of comments:  {272}\n",
      "=========================\n",
      "Name of post:        t3_bat8ow\n",
      "Author:              mknapp37\n",
      "Created on:          04/08/19 08:32:53\n",
      "Number of upvotes:   0.9\n",
      "Upvote ratio:        0.9\n",
      "Number of comments:  {86}\n",
      "=========================\n",
      "Name of post:        t3_bawp6a\n",
      "Author:              TheLazyMemers\n",
      "Created on:          04/08/19 13:38:03\n",
      "Number of upvotes:   0.73\n",
      "Upvote ratio:        0.73\n",
      "Number of comments:  {157}\n",
      "=========================\n",
      "Name of post:        t3_bas2b4\n",
      "Author:              Template666\n",
      "Created on:          04/08/19 06:18:29\n",
      "Number of upvotes:   0.89\n",
      "Upvote ratio:        0.89\n",
      "Number of comments:  {84}\n",
      "=========================\n",
      "Name of post:        t3_bayabh\n",
      "Author:              muwtu\n",
      "Created on:          04/08/19 15:53:14\n",
      "Number of upvotes:   0.84\n",
      "Upvote ratio:        0.84\n",
      "Number of comments:  {141}\n",
      "=========================\n",
      "Name of post:        t3_bavxqq\n",
      "Author:              raycmcor\n",
      "Created on:          04/08/19 12:33:08\n",
      "Number of upvotes:   0.83\n",
      "Upvote ratio:        0.83\n",
      "Number of comments:  {147}\n",
      "=========================\n",
      "Name of post:        t3_bawh20\n",
      "Author:              AsianHawke\n",
      "Created on:          04/08/19 13:18:27\n",
      "Number of upvotes:   0.82\n",
      "Upvote ratio:        0.82\n",
      "Number of comments:  {275}\n",
      "=========================\n",
      "Name of post:        t3_baspqu\n",
      "Author:              NotAshMain\n",
      "Created on:          04/08/19 07:38:34\n",
      "Number of upvotes:   0.93\n",
      "Upvote ratio:        0.93\n",
      "Number of comments:  {116}\n",
      "=========================\n",
      "Name of post:        t3_baq40v\n",
      "Author:              SomeFatNerdInSeattle\n",
      "Created on:          04/08/19 01:59:19\n",
      "Number of upvotes:   0.94\n",
      "Upvote ratio:        0.94\n",
      "Number of comments:  {140}\n",
      "=========================\n"
     ]
    }
   ],
   "source": [
    "iterate_over_submissions(top_10)"
   ]
  },
  {
   "cell_type": "markdown",
   "metadata": {},
   "source": [
    "### Vizualization of comments vs upvotes"
   ]
  },
  {
   "cell_type": "code",
   "execution_count": null,
   "metadata": {},
   "outputs": [],
   "source": []
  },
  {
   "cell_type": "code",
   "execution_count": null,
   "metadata": {},
   "outputs": [],
   "source": []
  },
  {
   "cell_type": "code",
   "execution_count": null,
   "metadata": {},
   "outputs": [],
   "source": []
  },
  {
   "cell_type": "code",
   "execution_count": null,
   "metadata": {},
   "outputs": [],
   "source": []
  }
 ],
 "metadata": {
  "kernelspec": {
   "display_name": "Python 3",
   "language": "python",
   "name": "python3"
  },
  "language_info": {
   "codemirror_mode": {
    "name": "ipython",
    "version": 3
   },
   "file_extension": ".py",
   "mimetype": "text/x-python",
   "name": "python",
   "nbconvert_exporter": "python",
   "pygments_lexer": "ipython3",
   "version": "3.6.6"
  }
 },
 "nbformat": 4,
 "nbformat_minor": 2
}
